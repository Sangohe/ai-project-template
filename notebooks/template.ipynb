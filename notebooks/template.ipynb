{
 "cells": [
  {
   "cell_type": "code",
   "execution_count": 3,
   "metadata": {},
   "outputs": [],
   "source": [
    "import sys\n",
    "from pathlib import Path\n",
    "\n",
    "import numpy as np\n",
    "\n",
    "# Get the absolute path to the src directory\n",
    "src_dir = Path().resolve().parent / 'src'\n",
    "\n",
    "# Add it to the sys.path\n",
    "if src_dir not in sys.path:\n",
    "    sys.path.append(str(src_dir))\n",
    "\n",
    "# Now you can import your modules from src\n",
    "from train import train\n"
   ]
  },
  {
   "cell_type": "markdown",
   "metadata": {},
   "source": [
    "# Template notebook"
   ]
  },
  {
   "cell_type": "code",
   "execution_count": 7,
   "metadata": {},
   "outputs": [
    {
     "data": {
      "text/plain": [
       "array([[12.73930969, -0.95640957,  2.682496  ,  0.09216727, -0.8202151 ],\n",
       "       [-0.95640957,  2.05989432,  1.2954197 ,  0.74146195,  3.99370055],\n",
       "       [ 2.682496  ,  1.2954197 ,  2.92665778,  1.7237209 ,  2.15782468],\n",
       "       [ 0.09216727,  0.74146195,  1.7237209 ,  3.21319166, -2.22359117],\n",
       "       [-0.8202151 ,  3.99370055,  2.15782468, -2.22359117, 13.39481918]])"
      ]
     },
     "execution_count": 7,
     "metadata": {},
     "output_type": "execute_result"
    }
   ],
   "source": [
    "np.random.seed(0)\n",
    "x = np.random.normal(size=(5, 5))\n",
    "x @ x.T"
   ]
  }
 ],
 "metadata": {
  "kernelspec": {
   "display_name": "base",
   "language": "python",
   "name": "python3"
  },
  "language_info": {
   "codemirror_mode": {
    "name": "ipython",
    "version": 3
   },
   "file_extension": ".py",
   "mimetype": "text/x-python",
   "name": "python",
   "nbconvert_exporter": "python",
   "pygments_lexer": "ipython3",
   "version": "3.10.13"
  }
 },
 "nbformat": 4,
 "nbformat_minor": 2
}
